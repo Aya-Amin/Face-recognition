{
  "nbformat": 4,
  "nbformat_minor": 0,
  "metadata": {
    "colab": {
      "name": "Assignment 1 - LDA.ipynb",
      "version": "0.3.2",
      "provenance": [],
      "collapsed_sections": [],
      "include_colab_link": true
    },
    "kernelspec": {
      "name": "python3",
      "display_name": "Python 3"
    },
    "accelerator": "GPU"
  },
  "cells": [
    {
      "cell_type": "markdown",
      "metadata": {
        "id": "view-in-github",
        "colab_type": "text"
      },
      "source": [
        "<a href=\"https://colab.research.google.com/github/Aya-Amin/Face-recognition/blob/master/Assignment_1_LDA.ipynb\" target=\"_parent\"><img src=\"https://colab.research.google.com/assets/colab-badge.svg\" alt=\"Open In Colab\"/></a>"
      ]
    },
    {
      "cell_type": "markdown",
      "metadata": {
        "id": "vN9o8oX-2Z4K",
        "colab_type": "text"
      },
      "source": [
        "# Classification using LDA"
      ]
    },
    {
      "cell_type": "markdown",
      "metadata": {
        "id": "UaInLb4M2eEO",
        "colab_type": "text"
      },
      "source": [
        "### Data Load from google.drive"
      ]
    },
    {
      "cell_type": "code",
      "metadata": {
        "id": "QaKjfYwT2U7t",
        "colab_type": "code",
        "outputId": "ed8438a4-6713-41ee-8dde-8ad87791105f",
        "colab": {
          "base_uri": "https://localhost:8080/",
          "height": 68
        }
      },
      "source": [
        "!pip install -U -q PyDrive\n",
        "from pydrive.auth import GoogleAuth\n",
        "from pydrive.drive import GoogleDrive\n",
        "from google.colab import auth\n",
        "from oauth2client.client import GoogleCredentials\n",
        "# Authenticate and create the PyDrive client.\n",
        "auth.authenticate_user()\n",
        "gauth = GoogleAuth()\n",
        "gauth.credentials = GoogleCredentials.get_application_default()\n",
        "drive = GoogleDrive(gauth)\n",
        "\n",
        "link = 'https://drive.google.com/open?id=1lAiosEECRFcWvc2rIEPbIe62YmCSSEI2'\n",
        "fluff, id = link.split('=')\n",
        "print (id) \n",
        "downloaded = drive.CreateFile({'id':id}) \n",
        "downloaded.GetContentFile('att_faces.zip')\n"
      ],
      "execution_count": 0,
      "outputs": [
        {
          "output_type": "stream",
          "text": [
            "\u001b[?25l\r\u001b[K    1% |▎                               | 10kB 18.2MB/s eta 0:00:01\r\u001b[K    2% |▋                               | 20kB 1.8MB/s eta 0:00:01\r\u001b[K    3% |█                               | 30kB 2.7MB/s eta 0:00:01\r\u001b[K    4% |█▎                              | 40kB 1.7MB/s eta 0:00:01\r\u001b[K    5% |█▋                              | 51kB 2.2MB/s eta 0:00:01\r\u001b[K    6% |██                              | 61kB 2.6MB/s eta 0:00:01\r\u001b[K    7% |██▎                             | 71kB 3.0MB/s eta 0:00:01\r\u001b[K    8% |██▋                             | 81kB 3.4MB/s eta 0:00:01\r\u001b[K    9% |███                             | 92kB 2.6MB/s eta 0:00:01\r\u001b[K    10% |███▎                            | 102kB 2.8MB/s eta 0:00:01\r\u001b[K    11% |███▋                            | 112kB 2.9MB/s eta 0:00:01\r\u001b[K    12% |████                            | 122kB 4.1MB/s eta 0:00:01\r\u001b[K    13% |████▎                           | 133kB 4.1MB/s eta 0:00:01\r\u001b[K    14% |████▋                           | 143kB 7.7MB/s eta 0:00:01\r\u001b[K    15% |█████                           | 153kB 7.7MB/s eta 0:00:01\r\u001b[K    16% |█████▎                          | 163kB 7.7MB/s eta 0:00:01\r\u001b[K    17% |█████▋                          | 174kB 7.6MB/s eta 0:00:01\r\u001b[K    18% |██████                          | 184kB 7.6MB/s eta 0:00:01\r\u001b[K    19% |██████▎                         | 194kB 47.6MB/s eta 0:00:01\r\u001b[K    20% |██████▋                         | 204kB 43.8MB/s eta 0:00:01\r\u001b[K    21% |███████                         | 215kB 8.5MB/s eta 0:00:01\r\u001b[K    22% |███████▎                        | 225kB 8.5MB/s eta 0:00:01\r\u001b[K    23% |███████▋                        | 235kB 8.5MB/s eta 0:00:01\r\u001b[K    24% |████████                        | 245kB 8.4MB/s eta 0:00:01\r\u001b[K    25% |████████▎                       | 256kB 8.4MB/s eta 0:00:01\r\u001b[K    26% |████████▋                       | 266kB 8.2MB/s eta 0:00:01\r\u001b[K    27% |█████████                       | 276kB 8.3MB/s eta 0:00:01\r\u001b[K    29% |█████████▎                      | 286kB 8.3MB/s eta 0:00:01\r\u001b[K    30% |█████████▋                      | 296kB 8.2MB/s eta 0:00:01\r\u001b[K    31% |██████████                      | 307kB 8.4MB/s eta 0:00:01\r\u001b[K    32% |██████████▎                     | 317kB 41.7MB/s eta 0:00:01\r\u001b[K    33% |██████████▋                     | 327kB 43.0MB/s eta 0:00:01\r\u001b[K    34% |███████████                     | 337kB 45.7MB/s eta 0:00:01\r\u001b[K    35% |███████████▎                    | 348kB 42.2MB/s eta 0:00:01\r\u001b[K    36% |███████████▋                    | 358kB 40.3MB/s eta 0:00:01\r\u001b[K    37% |████████████                    | 368kB 46.3MB/s eta 0:00:01\r\u001b[K    38% |████████████▎                   | 378kB 47.5MB/s eta 0:00:01\r\u001b[K    39% |████████████▋                   | 389kB 49.7MB/s eta 0:00:01\r\u001b[K    40% |█████████████                   | 399kB 10.1MB/s eta 0:00:01\r\u001b[K    41% |█████████████▎                  | 409kB 10.0MB/s eta 0:00:01\r\u001b[K    42% |█████████████▋                  | 419kB 10.0MB/s eta 0:00:01\r\u001b[K    43% |██████████████                  | 430kB 9.9MB/s eta 0:00:01\r\u001b[K    44% |██████████████▎                 | 440kB 9.8MB/s eta 0:00:01\r\u001b[K    45% |██████████████▋                 | 450kB 9.8MB/s eta 0:00:01\r\u001b[K    46% |███████████████                 | 460kB 9.9MB/s eta 0:00:01\r\u001b[K    47% |███████████████▎                | 471kB 10.0MB/s eta 0:00:01\r\u001b[K    48% |███████████████▋                | 481kB 10.1MB/s eta 0:00:01\r\u001b[K    49% |████████████████                | 491kB 10.1MB/s eta 0:00:01\r\u001b[K    50% |████████████████▎               | 501kB 48.6MB/s eta 0:00:01\r\u001b[K    51% |████████████████▋               | 512kB 47.0MB/s eta 0:00:01\r\u001b[K    52% |█████████████████               | 522kB 47.4MB/s eta 0:00:01\r\u001b[K    53% |█████████████████▎              | 532kB 49.5MB/s eta 0:00:01\r\u001b[K    54% |█████████████████▋              | 542kB 51.3MB/s eta 0:00:01\r\u001b[K    55% |██████████████████              | 552kB 57.5MB/s eta 0:00:01\r\u001b[K    57% |██████████████████▎             | 563kB 9.3MB/s eta 0:00:01\r\u001b[K    58% |██████████████████▋             | 573kB 9.2MB/s eta 0:00:01\r\u001b[K    59% |███████████████████             | 583kB 9.2MB/s eta 0:00:01\r\u001b[K    60% |███████████████████▎            | 593kB 9.1MB/s eta 0:00:01\r\u001b[K    61% |███████████████████▋            | 604kB 9.2MB/s eta 0:00:01\r\u001b[K    62% |████████████████████            | 614kB 9.3MB/s eta 0:00:01\r\u001b[K    63% |████████████████████▎           | 624kB 9.3MB/s eta 0:00:01\r\u001b[K    64% |████████████████████▋           | 634kB 9.3MB/s eta 0:00:01\r\u001b[K    65% |█████████████████████           | 645kB 9.3MB/s eta 0:00:01\r\u001b[K    66% |█████████████████████▎          | 655kB 9.3MB/s eta 0:00:01\r\u001b[K    67% |█████████████████████▋          | 665kB 41.6MB/s eta 0:00:01\r\u001b[K    68% |██████████████████████          | 675kB 44.4MB/s eta 0:00:01\r\u001b[K    69% |██████████████████████▎         | 686kB 44.7MB/s eta 0:00:01\r\u001b[K    70% |██████████████████████▋         | 696kB 45.7MB/s eta 0:00:01\r\u001b[K    71% |███████████████████████         | 706kB 44.9MB/s eta 0:00:01\r\u001b[K    72% |███████████████████████▎        | 716kB 45.2MB/s eta 0:00:01\r\u001b[K    73% |███████████████████████▋        | 727kB 45.6MB/s eta 0:00:01\r\u001b[K    74% |████████████████████████        | 737kB 45.9MB/s eta 0:00:01\r\u001b[K    75% |████████████████████████▎       | 747kB 45.6MB/s eta 0:00:01\r\u001b[K    76% |████████████████████████▋       | 757kB 45.9MB/s eta 0:00:01\r\u001b[K    77% |████████████████████████▉       | 768kB 61.4MB/s eta 0:00:01\r\u001b[K    78% |█████████████████████████▏      | 778kB 62.0MB/s eta 0:00:01\r\u001b[K    79% |█████████████████████████▌      | 788kB 61.9MB/s eta 0:00:01\r\u001b[K    80% |█████████████████████████▉      | 798kB 62.0MB/s eta 0:00:01\r\u001b[K    81% |██████████████████████████▏     | 808kB 63.4MB/s eta 0:00:01\r\u001b[K    82% |██████████████████████████▌     | 819kB 62.9MB/s eta 0:00:01\r\u001b[K    83% |██████████████████████████▉     | 829kB 62.9MB/s eta 0:00:01\r\u001b[K    85% |███████████████████████████▏    | 839kB 62.6MB/s eta 0:00:01\r\u001b[K    86% |███████████████████████████▌    | 849kB 61.9MB/s eta 0:00:01\r\u001b[K    87% |███████████████████████████▉    | 860kB 58.6MB/s eta 0:00:01\r\u001b[K    88% |████████████████████████████▏   | 870kB 60.9MB/s eta 0:00:01\r\u001b[K    89% |████████████████████████████▌   | 880kB 60.5MB/s eta 0:00:01\r\u001b[K    90% |████████████████████████████▉   | 890kB 60.2MB/s eta 0:00:01\r\u001b[K    91% |█████████████████████████████▏  | 901kB 59.8MB/s eta 0:00:01\r\u001b[K    92% |█████████████████████████████▌  | 911kB 60.7MB/s eta 0:00:01\r\u001b[K    93% |█████████████████████████████▉  | 921kB 61.1MB/s eta 0:00:01\r\u001b[K    94% |██████████████████████████████▏ | 931kB 60.6MB/s eta 0:00:01\r\u001b[K    95% |██████████████████████████████▌ | 942kB 60.4MB/s eta 0:00:01\r\u001b[K    96% |██████████████████████████████▉ | 952kB 59.2MB/s eta 0:00:01\r\u001b[K    97% |███████████████████████████████▏| 962kB 65.6MB/s eta 0:00:01\r\u001b[K    98% |███████████████████████████████▌| 972kB 66.0MB/s eta 0:00:01\r\u001b[K    99% |███████████████████████████████▉| 983kB 66.8MB/s eta 0:00:01\r\u001b[K    100% |████████████████████████████████| 993kB 21.6MB/s \n",
            "\u001b[?25h  Building wheel for PyDrive (setup.py) ... \u001b[?25ldone\n",
            "\u001b[?25h1lAiosEECRFcWvc2rIEPbIe62YmCSSEI2\n"
          ],
          "name": "stdout"
        }
      ]
    },
    {
      "cell_type": "markdown",
      "metadata": {
        "id": "JvOUNMdL2Y2n",
        "colab_type": "text"
      },
      "source": [
        "### unzipping the downloaded file"
      ]
    },
    {
      "cell_type": "code",
      "metadata": {
        "id": "4bu36sek3e_E",
        "colab_type": "code",
        "colab": {}
      },
      "source": [
        "from zipfile import ZipFile \n",
        "  \n",
        "zip_ref = ZipFile('att_faces.zip', 'r')\n",
        "zip_ref.extractall('att_faces/')\n",
        "zip_ref.close()"
      ],
      "execution_count": 0,
      "outputs": []
    },
    {
      "cell_type": "code",
      "metadata": {
        "id": "2OPfv17g3jpz",
        "colab_type": "code",
        "colab": {}
      },
      "source": [
        ""
      ],
      "execution_count": 0,
      "outputs": []
    },
    {
      "cell_type": "markdown",
      "metadata": {
        "id": "dBugKumK9iFD",
        "colab_type": "text"
      },
      "source": [
        "#### Loading the Extracted Images "
      ]
    },
    {
      "cell_type": "code",
      "metadata": {
        "id": "gTl_Mx7i9iFN",
        "colab_type": "code",
        "colab": {}
      },
      "source": [
        "from matplotlib import pyplot\n",
        "data = []\n",
        "for i in range(1 , 41):\n",
        "    folder = str(i)\n",
        "    for j in range(1,11):\n",
        "        file = str(j)\n",
        "        data.append(pyplot.imread('att_faces/'+'s'+folder+'/'+file +'.pgm'))\n",
        "    \n",
        "    \n",
        "\n"
      ],
      "execution_count": 0,
      "outputs": []
    },
    {
      "cell_type": "markdown",
      "metadata": {
        "id": "M08a1pMh35GL",
        "colab_type": "text"
      },
      "source": [
        "#### Reshaping all the images into 10304x1 vectors"
      ]
    },
    {
      "cell_type": "code",
      "metadata": {
        "id": "311-Kg0R9iFj",
        "colab_type": "code",
        "outputId": "45174f0c-801c-4fff-9423-90fe1f231f2d",
        "colab": {
          "base_uri": "https://localhost:8080/",
          "height": 54
        }
      },
      "source": [
        "for i in range(0 , 400):\n",
        "    data[i] = data[i].reshape(10304)\n",
        "print(data)"
      ],
      "execution_count": 0,
      "outputs": [
        {
          "output_type": "stream",
          "text": [
            "[array([48, 49, 45, ..., 47, 46, 46], dtype=uint8), array([60, 60, 62, ..., 32, 34, 34], dtype=uint8), array([39, 44, 53, ..., 29, 26, 29], dtype=uint8), array([63, 53, 35, ..., 41, 10, 24], dtype=uint8), array([64, 76, 80, ..., 35, 37, 39], dtype=uint8), array([ 43,  50,  41, ..., 158, 153, 169], dtype=uint8), array([41, 47, 47, ..., 35, 37, 38], dtype=uint8), array([44, 43, 32, ..., 43, 43, 37], dtype=uint8), array([42, 41, 44, ..., 42, 43, 41], dtype=uint8), array([34, 34, 33, ..., 37, 40, 33], dtype=uint8), array([ 35,  36,  37, ..., 144, 147, 143], dtype=uint8), array([37, 35, 35, ..., 26, 28, 28], dtype=uint8), array([30, 37, 35, ..., 26, 27, 32], dtype=uint8), array([34, 36, 35, ..., 32, 25, 25], dtype=uint8), array([35, 32, 36, ..., 25, 28, 29], dtype=uint8), array([34, 35, 35, ..., 31, 24, 24], dtype=uint8), array([ 38,  35,  36, ..., 138, 142, 141], dtype=uint8), array([ 34,  39,  35, ..., 135, 138, 148], dtype=uint8), array([ 43,  39,  36, ..., 154, 155, 141], dtype=uint8), array([ 37,  34,  38, ..., 135, 143, 133], dtype=uint8), array([103, 105, 104, ...,  44,  38,  43], dtype=uint8), array([100,  99, 108, ...,  44,  42,  44], dtype=uint8), array([101, 106, 102, ...,  46,  50,  45], dtype=uint8), array([105, 102, 108, ...,  42,  35,  37], dtype=uint8), array([101, 104, 104, ...,  42,  46,  43], dtype=uint8), array([110, 106, 109, ...,  49,  53,  53], dtype=uint8), array([109, 111, 108, ...,  52,  55,  48], dtype=uint8), array([107, 104, 109, ...,  58,  56,  57], dtype=uint8), array([104, 109, 104, ...,  52,  59,  56], dtype=uint8), array([104, 109, 103, ...,  57,  56,  59], dtype=uint8), array([115, 113, 113, ...,  56,  52,  55], dtype=uint8), array([116, 112, 115, ...,  51,  55,  54], dtype=uint8), array([112, 115, 120, ...,  53,  53,  54], dtype=uint8), array([119, 121, 119, ...,  82,  78,  80], dtype=uint8), array([119, 121, 122, ...,  79,  80,  82], dtype=uint8), array([121, 123, 121, ...,  88,  83,  78], dtype=uint8), array([119, 121, 123, ...,  75,  79,  78], dtype=uint8), array([118, 114, 117, ...,  58,  54,  52], dtype=uint8), array([114, 118, 114, ...,  54,  55,  52], dtype=uint8), array([119, 124, 118, ...,  75,  77,  82], dtype=uint8), array([133, 132, 131, ...,  53,  48,  58], dtype=uint8), array([130, 132, 129, ...,  53,  50,  52], dtype=uint8), array([131, 129, 130, ...,  51,  48,  55], dtype=uint8), array([130, 133, 129, ...,  54,  54,  56], dtype=uint8), array([128, 125, 126, ...,  84,  85,  85], dtype=uint8), array([128, 128, 128, ...,  87,  83,  86], dtype=uint8), array([131, 133, 128, ...,  54,  53,  56], dtype=uint8), array([132, 127, 128, ...,  85,  83,  85], dtype=uint8), array([126, 127, 126, ...,  87,  85,  89], dtype=uint8), array([124, 125, 125, ...,  84,  89,  85], dtype=uint8), array([143, 144, 142, ...,  79,  79,  80], dtype=uint8), array([144, 144, 145, ...,  76,  78,  82], dtype=uint8), array([139, 143, 146, ...,  83,  81,  74], dtype=uint8), array([156, 158, 155, ..., 113, 110, 108], dtype=uint8), array([153, 152, 152, ..., 110, 108, 114], dtype=uint8), array([155, 154, 154, ..., 111, 111, 108], dtype=uint8), array([157, 152, 154, ..., 111, 108, 109], dtype=uint8), array([155, 154, 153, ..., 113, 110, 111], dtype=uint8), array([154, 155, 151, ..., 108, 113, 110], dtype=uint8), array([157, 154, 154, ..., 105, 110, 106], dtype=uint8), array([51, 49, 53, ..., 61, 61, 57], dtype=uint8), array([48, 52, 51, ..., 56, 56, 55], dtype=uint8), array([48, 52, 48, ..., 65, 61, 63], dtype=uint8), array([68, 68, 69, ..., 73, 67, 69], dtype=uint8), array([67, 64, 67, ..., 73, 69, 72], dtype=uint8), array([53, 51, 49, ..., 58, 64, 60], dtype=uint8), array([54, 51, 49, ..., 61, 59, 63], dtype=uint8), array([48, 47, 53, ..., 61, 66, 67], dtype=uint8), array([49, 48, 49, ..., 63, 63, 56], dtype=uint8), array([66, 68, 66, ..., 72, 72, 76], dtype=uint8), array([126, 130, 131, ...,  43,  51,  48], dtype=uint8), array([131, 128, 126, ...,  41,  40,  35], dtype=uint8), array([117, 114, 116, ...,  85,  89,  91], dtype=uint8), array([128, 125, 125, ...,  45,  31,  30], dtype=uint8), array([114, 115, 115, ...,  78,  85,  77], dtype=uint8), array([117, 112, 115, ...,  82,  82,  80], dtype=uint8), array([129, 127, 128, ...,  32,  35,  40], dtype=uint8), array([117, 113, 118, ...,  78,  85,  82], dtype=uint8), array([116, 116, 117, ...,  83,  76,  77], dtype=uint8), array([117, 115, 115, ...,  53,  46,  68], dtype=uint8), array([105, 102, 106, ...,  72,  62,  75], dtype=uint8), array([100, 110, 107, ...,  64,  71,  59], dtype=uint8), array([ 97, 105, 107, ...,  76,  67,  74], dtype=uint8), array([114, 110, 112, ...,  93,  89,  86], dtype=uint8), array([110, 109, 111, ...,  94,  88,  90], dtype=uint8), array([113, 112, 111, ...,  87,  87,  89], dtype=uint8), array([112, 109, 116, ...,  93,  88,  92], dtype=uint8), array([111, 114, 112, ...,  88,  86,  92], dtype=uint8), array([110, 112, 113, ...,  92,  87,  90], dtype=uint8), array([111, 111, 110, ...,  88,  79,  90], dtype=uint8), array([140, 134, 135, ...,  25,  26,  49], dtype=uint8), array([138, 135, 135, ...,  23,  18,  35], dtype=uint8), array([137, 135, 136, ...,  19,  24,  41], dtype=uint8), array([132, 118, 124, ...,  56,  67,  62], dtype=uint8), array([133, 135, 137, ...,  16,  19,  17], dtype=uint8), array([133, 135, 135, ...,  18,  17,  15], dtype=uint8), array([134, 138, 136, ...,  55,  79,  81], dtype=uint8), array([135, 133, 136, ...,  18,  21,  24], dtype=uint8), array([136, 136, 136, ...,  19,  20,  21], dtype=uint8), array([133, 129, 133, ...,  15,  29,  26], dtype=uint8), array([48, 46, 49, ..., 31, 31, 36], dtype=uint8), array([44, 48, 45, ..., 33, 36, 37], dtype=uint8), array([52, 48, 47, ..., 32, 31, 37], dtype=uint8), array([48, 45, 45, ..., 28, 37, 29], dtype=uint8), array([51, 48, 43, ..., 29, 28, 32], dtype=uint8), array([45, 49, 47, ..., 40, 30, 44], dtype=uint8), array([47, 47, 47, ..., 30, 35, 33], dtype=uint8), array([47, 49, 46, ..., 31, 32, 34], dtype=uint8), array([50, 46, 49, ..., 33, 33, 41], dtype=uint8), array([48, 44, 49, ..., 38, 35, 44], dtype=uint8), array([104, 101, 105, ...,  49,  43,  36], dtype=uint8), array([106, 110, 107, ...,  44,  49,  31], dtype=uint8), array([107, 108, 107, ...,  28,  39,  43], dtype=uint8), array([111, 110, 111, ...,  35,  40,  29], dtype=uint8), array([114, 109, 112, ...,  37,  35,  38], dtype=uint8), array([ 95, 101,  99, ...,  40,  42,  53], dtype=uint8), array([111, 106, 106, ...,  43,  34,  43], dtype=uint8), array([106, 105, 106, ...,  32,  31,  28], dtype=uint8), array([100, 105, 103, ...,  41,  37,  37], dtype=uint8), array([105, 104, 104, ...,  43,  41,  24], dtype=uint8), array([106, 109, 105, ...,  35,  45,  48], dtype=uint8), array([108, 109, 110, ...,  24,  23,  30], dtype=uint8), array([108, 111, 110, ...,  53,  48,  56], dtype=uint8), array([104, 105, 102, ...,  20,  28,  34], dtype=uint8), array([108, 112, 110, ...,  22,  30,  20], dtype=uint8), array([110, 110, 112, ...,  20,  31,  16], dtype=uint8), array([113, 110, 110, ...,  21,  21,  20], dtype=uint8), array([111, 112, 110, ...,  21,  20,  17], dtype=uint8), array([110, 106, 106, ...,  19,  21,  19], dtype=uint8), array([105, 110, 106, ...,  18,  27,  22], dtype=uint8), array([ 50,  49,  50, ..., 159, 111, 117], dtype=uint8), array([ 44,  50,  46, ..., 140, 104,  95], dtype=uint8), array([ 52,  39,  51, ..., 133, 138, 103], dtype=uint8), array([ 44,  48,  51, ..., 129, 131, 125], dtype=uint8), array([ 46,  50,  45, ..., 136, 144,  98], dtype=uint8), array([ 47,  46,  46, ..., 151, 143,  90], dtype=uint8), array([ 44,  44,  47, ..., 188, 165, 106], dtype=uint8), array([ 51,  46,  48, ..., 196, 173, 110], dtype=uint8), array([ 41,  42,  47, ..., 141, 156, 149], dtype=uint8), array([ 43,  46,  43, ...,  95, 162, 197], dtype=uint8), array([38, 35, 40, ..., 36, 35, 39], dtype=uint8), array([121, 120, 120, ...,  79,  76,  78], dtype=uint8), array([39, 40, 38, ..., 36, 38, 40], dtype=uint8), array([39, 41, 37, ..., 33, 33, 40], dtype=uint8), array([117, 122, 120, ...,  76,  78,  71], dtype=uint8), array([38, 41, 37, ..., 39, 38, 40], dtype=uint8), array([119, 123, 123, ...,  78,  72,  75], dtype=uint8), array([ 45,  38,  40, ..., 135,  24,  36], dtype=uint8), array([120, 119, 121, ...,  74,  74,  80], dtype=uint8), array([119, 121, 123, ...,  73,  74,  76], dtype=uint8), array([41, 43, 43, ..., 45, 47, 46], dtype=uint8), array([60, 57, 59, ..., 49, 55, 54], dtype=uint8), array([61, 62, 64, ..., 51, 55, 53], dtype=uint8), array([ 72,  73,  77, ..., 100,  86,  76], dtype=uint8), array([ 69,  76,  69, ..., 104, 121,  93], dtype=uint8), array([46, 45, 49, ..., 56, 60, 58], dtype=uint8), array([61, 58, 59, ..., 59, 64, 61], dtype=uint8), array([63, 60, 63, ..., 63, 69, 58], dtype=uint8), array([63, 54, 58, ..., 63, 63, 64], dtype=uint8), array([59, 60, 59, ..., 55, 53, 56], dtype=uint8), array([56, 61, 54, ..., 40, 43, 45], dtype=uint8), array([53, 58, 57, ..., 38, 47, 39], dtype=uint8), array([53, 52, 61, ..., 46, 45, 45], dtype=uint8), array([50, 57, 56, ..., 39, 46, 43], dtype=uint8), array([52, 56, 60, ..., 39, 41, 44], dtype=uint8), array([47, 43, 48, ..., 45, 49, 50], dtype=uint8), array([52, 41, 48, ..., 44, 43, 46], dtype=uint8), array([48, 45, 50, ..., 46, 50, 53], dtype=uint8), array([45, 52, 48, ..., 48, 43, 47], dtype=uint8), array([49, 45, 46, ..., 43, 42, 45], dtype=uint8), array([121, 119, 121, ...,  83,  80,  86], dtype=uint8), array([122, 120, 125, ...,  65,  62,  66], dtype=uint8), array([117, 120, 122, ...,  66,  59,  65], dtype=uint8), array([123, 121, 121, ...,  78,  79,  67], dtype=uint8), array([122, 120, 121, ...,  59,  67,  58], dtype=uint8), array([118, 123, 120, ...,  79,  81,  84], dtype=uint8), array([120, 120, 120, ...,  82,  87,  79], dtype=uint8), array([121, 120, 122, ...,  66,  62,  68], dtype=uint8), array([119, 118, 119, ...,  83,  83,  82], dtype=uint8), array([122, 119, 123, ...,  80,  86,  82], dtype=uint8), array([42, 47, 48, ..., 34, 43, 45], dtype=uint8), array([51, 41, 56, ..., 43, 49, 36], dtype=uint8), array([50, 49, 49, ..., 41, 40, 45], dtype=uint8), array([54, 52, 49, ..., 33, 33, 32], dtype=uint8), array([52, 51, 52, ..., 33, 34, 32], dtype=uint8), array([48, 44, 49, ..., 41, 45, 35], dtype=uint8), array([55, 52, 54, ..., 34, 35, 32], dtype=uint8), array([53, 50, 52, ..., 35, 34, 33], dtype=uint8), array([46, 48, 51, ..., 34, 30, 32], dtype=uint8), array([42, 47, 46, ..., 37, 42, 41], dtype=uint8), array([109, 110, 113, ...,  49,  52,  51], dtype=uint8), array([113, 111, 112, ...,  47,  57,  55], dtype=uint8), array([111, 110, 114, ...,  57,  53,  48], dtype=uint8), array([116, 116, 117, ...,  19,  24,  16], dtype=uint8), array([108, 110, 108, ...,  36,  35,  34], dtype=uint8), array([115, 118, 117, ...,  22,  25,  28], dtype=uint8), array([108, 110, 111, ...,  26,  37,  37], dtype=uint8), array([102, 103, 103, ...,  36,  37,  31], dtype=uint8), array([109, 107, 110, ...,  42,  40,  35], dtype=uint8), array([109, 111, 111, ...,  51,  50,  51], dtype=uint8), array([ 93,  98,  95, ..., 131, 131, 132], dtype=uint8), array([ 99,  90,  97, ..., 135, 113, 158], dtype=uint8), array([ 95,  95,  99, ..., 111, 165, 162], dtype=uint8), array([103, 102, 104, ..., 139, 152, 178], dtype=uint8), array([103, 104, 103, ..., 132, 165, 149], dtype=uint8), array([107, 103, 104, ..., 155, 133, 159], dtype=uint8), array([104, 106, 105, ..., 148, 155, 168], dtype=uint8), array([104, 108, 105, ..., 173, 175, 155], dtype=uint8), array([108, 105, 105, ..., 169, 147, 165], dtype=uint8), array([105, 104, 102, ..., 173, 161, 122], dtype=uint8), array([ 58,  55,  52, ..., 131, 115,  68], dtype=uint8), array([ 54,  55,  60, ..., 156, 181, 217], dtype=uint8), array([ 50,  54,  61, ..., 152, 165,  67], dtype=uint8), array([ 58,  54,  57, ...,  97, 115, 128], dtype=uint8), array([ 49,  65,  53, ..., 134, 130, 145], dtype=uint8), array([ 54,  53,  53, ..., 227, 104, 125], dtype=uint8), array([ 56,  58,  50, ...,  63,  75, 189], dtype=uint8), array([ 53,  58,  53, ..., 195, 122,  76], dtype=uint8), array([ 55,  56,  56, ...,  69, 144, 193], dtype=uint8), array([ 58,  57,  61, ..., 204, 102,  98], dtype=uint8), array([122, 124, 121, ...,  86,  84,  84], dtype=uint8), array([122, 121, 121, ...,  78,  78,  80], dtype=uint8), array([120, 119, 118, ...,  63,  73,  80], dtype=uint8), array([114, 120, 118, ...,  79,  92,  87], dtype=uint8), array([116, 119, 117, ...,  60,  54,  64], dtype=uint8), array([121, 118, 117, ...,  74,  84,  90], dtype=uint8), array([118, 122, 118, ...,  78,  62,  62], dtype=uint8), array([126, 124, 125, ...,  76,  81,  78], dtype=uint8), array([124, 126, 124, ...,  78,  78,  77], dtype=uint8), array([128, 123, 128, ...,  79,  77,  83], dtype=uint8), array([36, 39, 45, ..., 52, 51, 53], dtype=uint8), array([37, 36, 38, ..., 40, 50, 50], dtype=uint8), array([34, 38, 36, ..., 55, 58, 55], dtype=uint8), array([35, 35, 35, ..., 56, 58, 55], dtype=uint8), array([40, 41, 43, ..., 40, 37, 36], dtype=uint8), array([ 35,  40,  38, ..., 222,  55,  34], dtype=uint8), array([36, 38, 37, ..., 48, 51, 50], dtype=uint8), array([40, 42, 41, ..., 57, 37, 42], dtype=uint8), array([35, 36, 37, ..., 59, 57, 58], dtype=uint8), array([34, 38, 40, ..., 60, 57, 59], dtype=uint8), array([118, 119, 122, ...,  97, 102, 101], dtype=uint8), array([123, 122, 121, ...,  84,  92,  94], dtype=uint8), array([120, 123, 119, ...,  96,  95, 103], dtype=uint8), array([124, 124, 123, ...,  99, 102,  95], dtype=uint8), array([123, 124, 122, ...,  69,  71, 101], dtype=uint8), array([122, 123, 122, ...,  98, 101,  85], dtype=uint8), array([119, 120, 121, ...,  99, 100, 104], dtype=uint8), array([119, 123, 121, ...,  93, 106,  90], dtype=uint8), array([122, 124, 121, ...,  85,  98,  84], dtype=uint8), array([120, 122, 118, ...,  94,  98,  99], dtype=uint8), array([109, 105, 112, ...,  55,  50,  51], dtype=uint8), array([115, 108, 109, ...,  48,  47,  48], dtype=uint8), array([108, 107, 106, ...,  43,  43,  40], dtype=uint8), array([112, 107, 111, ...,  39,  45,  57], dtype=uint8), array([113, 105, 109, ...,  48,  37,  51], dtype=uint8), array([111, 111, 108, ...,  66,  64,  59], dtype=uint8), array([112, 109, 111, ...,  74,  75,  74], dtype=uint8), array([108, 108, 111, ...,  64,  71,  75], dtype=uint8), array([112, 109, 110, ...,  65,  69,  83], dtype=uint8), array([109, 111, 110, ...,  75,  69,  68], dtype=uint8), array([41, 49, 45, ..., 18, 28, 21], dtype=uint8), array([52, 42, 42, ..., 37, 19, 24], dtype=uint8), array([46, 42, 46, ..., 39, 22, 14], dtype=uint8), array([39, 46, 42, ..., 19, 19, 25], dtype=uint8), array([46, 45, 42, ..., 24, 21, 24], dtype=uint8), array([38, 46, 38, ..., 27, 23, 26], dtype=uint8), array([42, 40, 43, ..., 23, 23, 18], dtype=uint8), array([39, 43, 39, ..., 24, 24, 23], dtype=uint8), array([42, 44, 39, ..., 22, 28, 18], dtype=uint8), array([40, 40, 41, ..., 23, 23, 27], dtype=uint8), array([122, 122, 121, ...,  77,  77,  79], dtype=uint8), array([52, 52, 46, ..., 88, 82, 52], dtype=uint8), array([124, 123, 126, ...,  75,  72,  78], dtype=uint8), array([49, 50, 48, ..., 73, 77, 71], dtype=uint8), array([48, 48, 55, ..., 88, 93, 99], dtype=uint8), array([124, 121, 123, ...,  78,  76,  74], dtype=uint8), array([ 63,  56,  51, ..., 118, 127, 137], dtype=uint8), array([122, 125, 123, ...,  75,  74,  74], dtype=uint8), array([48, 50, 51, ..., 87, 90, 99], dtype=uint8), array([124, 121, 125, ...,  57,  56,  59], dtype=uint8), array([ 98, 100,  99, ...,  53,  48,  52], dtype=uint8), array([101, 100,  99, ...,  49,  52,  52], dtype=uint8), array([104,  98, 100, ...,  52,  49,  53], dtype=uint8), array([105, 107, 104, ...,  77,  76,  75], dtype=uint8), array([103, 104, 105, ...,  76,  76,  75], dtype=uint8), array([102, 105, 104, ...,  74,  74,  75], dtype=uint8), array([104, 101, 104, ...,  78,  73,  79], dtype=uint8), array([105, 106, 100, ...,  76,  76,  76], dtype=uint8), array([ 98, 103,  98, ...,  57,  50,  48], dtype=uint8), array([ 99, 102,  97, ...,  50,  53,  50], dtype=uint8), array([111, 107, 109, ...,  65,  68,  65], dtype=uint8), array([110, 111, 110, ...,  63,  59,  60], dtype=uint8), array([110, 108, 109, ...,  66,  64,  63], dtype=uint8), array([110, 113, 108, ...,  63,  63,  61], dtype=uint8), array([112, 109, 112, ...,  61,  62,  62], dtype=uint8), array([106, 106, 110, ...,  69,  69,  68], dtype=uint8), array([110, 110, 112, ..., 141,  88,  64], dtype=uint8), array([112, 110, 113, ..., 157, 159, 167], dtype=uint8), array([108, 108, 106, ...,  69,  69,  70], dtype=uint8), array([109, 107, 108, ...,  66,  67,  67], dtype=uint8), array([ 94,  98,  94, ..., 126, 148, 135], dtype=uint8), array([ 37,  36,  35, ..., 210, 212, 157], dtype=uint8), array([ 36,  36,  38, ..., 210, 205, 144], dtype=uint8), array([ 35,  39,  38, ..., 212, 202, 145], dtype=uint8), array([ 37,  36,  34, ..., 160, 207, 210], dtype=uint8), array([ 99, 103,  98, ..., 162, 122, 122], dtype=uint8), array([ 97,  99,  98, ..., 130, 119, 120], dtype=uint8), array([ 96,  94,  98, ..., 131, 136, 152], dtype=uint8), array([ 98,  98, 101, ..., 130, 150, 157], dtype=uint8), array([ 29,  39,  35, ..., 213, 153, 204], dtype=uint8), array([40, 42, 38, ..., 28, 33, 29], dtype=uint8), array([39, 37, 37, ..., 24, 30, 28], dtype=uint8), array([38, 33, 43, ..., 26, 28, 23], dtype=uint8), array([40, 37, 35, ..., 27, 30, 24], dtype=uint8), array([37, 37, 42, ..., 29, 28, 27], dtype=uint8), array([40, 35, 37, ..., 33, 31, 29], dtype=uint8), array([41, 34, 40, ..., 38, 39, 37], dtype=uint8), array([34, 38, 38, ..., 28, 28, 22], dtype=uint8), array([33, 39, 38, ..., 26, 27, 27], dtype=uint8), array([32, 37, 32, ..., 27, 25, 27], dtype=uint8), array([ 88,  79,  77, ..., 137, 138, 148], dtype=uint8), array([ 97,  96,  98, ...,  75, 104, 124], dtype=uint8), array([93, 92, 97, ..., 94, 90, 94], dtype=uint8), array([ 93,  92,  98, ..., 118, 119, 130], dtype=uint8), array([101,  86,  71, ...,  81, 105,  87], dtype=uint8), array([ 40,  42,  53, ..., 190, 195, 182], dtype=uint8), array([ 98,  94, 100, ..., 164, 167, 164], dtype=uint8), array([104, 100, 101, ...,  89,  79,  77], dtype=uint8), array([ 54,  49,  56, ..., 154, 154, 162], dtype=uint8), array([ 91,  96,  89, ..., 106,  50, 118], dtype=uint8), array([ 28,  25,  27, ..., 187, 187, 190], dtype=uint8), array([ 24,  26,  27, ..., 183, 181, 181], dtype=uint8), array([ 28,  25,  28, ..., 182, 183, 178], dtype=uint8), array([ 25,  25,  23, ..., 187, 190, 192], dtype=uint8), array([ 22,  19,  24, ..., 150, 158, 166], dtype=uint8), array([ 24,  26,  22, ..., 184, 180, 178], dtype=uint8), array([ 19,  23,  20, ..., 169, 173, 175], dtype=uint8), array([ 25,  24,  26, ..., 186, 189, 187], dtype=uint8), array([ 23,  24,  26, ..., 185, 187, 186], dtype=uint8), array([ 25,  17,  26, ..., 187, 187, 187], dtype=uint8), array([ 86,  90,  87, ..., 153, 142, 139], dtype=uint8), array([ 86,  89,  90, ..., 124, 116,  83], dtype=uint8), array([ 89,  95,  95, ..., 147, 152, 159], dtype=uint8), array([ 84,  96, 101, ...,  36,  57,  55], dtype=uint8), array([ 91,  83,  70, ..., 171, 188, 190], dtype=uint8), array([95, 89, 89, ..., 43, 55, 55], dtype=uint8), array([88, 97, 95, ..., 67, 68, 69], dtype=uint8), array([ 92,  93,  96, ..., 192, 163, 157], dtype=uint8), array([ 67,  62,  88, ..., 167, 157, 145], dtype=uint8), array([ 92,  86,  89, ..., 183, 175, 175], dtype=uint8), array([63, 67, 65, ..., 54, 61, 69], dtype=uint8), array([46, 45, 47, ..., 46, 50, 50], dtype=uint8), array([48, 42, 52, ..., 46, 51, 48], dtype=uint8), array([48, 43, 51, ..., 45, 42, 39], dtype=uint8), array([62, 64, 64, ..., 45, 44, 52], dtype=uint8), array([46, 41, 45, ..., 37, 34, 43], dtype=uint8), array([46, 48, 41, ..., 35, 36, 37], dtype=uint8), array([ 48,  47,  47, ..., 120, 104,  66], dtype=uint8), array([45, 45, 48, ..., 76, 79, 70], dtype=uint8), array([47, 42, 53, ..., 36, 70, 82], dtype=uint8), array([121, 119, 122, ..., 150, 135, 121], dtype=uint8), array([52, 47, 51, ..., 30, 34, 42], dtype=uint8), array([118, 120, 118, ..., 131, 113, 102], dtype=uint8), array([58, 48, 47, ..., 31, 43, 41], dtype=uint8), array([55, 47, 50, ..., 48, 46, 72], dtype=uint8), array([47, 50, 52, ..., 33, 45, 36], dtype=uint8), array([121, 122, 121, ..., 141, 140, 145], dtype=uint8), array([45, 54, 48, ..., 46, 67, 33], dtype=uint8), array([121, 121, 122, ...,  96,  98, 100], dtype=uint8), array([116, 123, 120, ..., 108,  96,  98], dtype=uint8), array([109, 112, 114, ...,  69,  72,  69], dtype=uint8), array([104, 106, 107, ...,  65,  59,  73], dtype=uint8), array([103, 109, 105, ...,  53,  58,  54], dtype=uint8), array([110, 111, 114, ...,  65,  72,  65], dtype=uint8), array([105, 109, 105, ...,  81,  57,  49], dtype=uint8), array([114, 112, 110, ...,  67,  70,  68], dtype=uint8), array([106, 104, 104, ...,  74,  66,  68], dtype=uint8), array([113, 109, 113, ...,  72,  66,  71], dtype=uint8), array([108, 112, 109, ...,  73,  64,  69], dtype=uint8), array([108, 105, 104, ...,  72,  73,  48], dtype=uint8), array([ 83,  86,  84, ..., 136, 138, 134], dtype=uint8), array([ 75,  77,  75, ..., 116, 114, 113], dtype=uint8), array([ 74,  74,  76, ..., 135, 127, 118], dtype=uint8), array([ 74,  74,  78, ..., 109, 113, 120], dtype=uint8), array([ 87,  93,  84, ..., 125, 117, 125], dtype=uint8), array([ 97,  94,  92, ..., 144, 143, 129], dtype=uint8), array([ 93,  93,  88, ..., 112, 111, 111], dtype=uint8), array([ 88,  85,  89, ..., 117, 117, 116], dtype=uint8), array([ 86,  90,  87, ..., 127, 124, 126], dtype=uint8), array([ 89,  87,  92, ...,  93, 112, 109], dtype=uint8), array([119, 121, 123, ...,  36,  40,  36], dtype=uint8), array([127, 131, 128, ...,  94,  84,  89], dtype=uint8), array([131, 125, 126, ...,  89,  93,  91], dtype=uint8), array([130, 123, 127, ...,  33,  37,  40], dtype=uint8), array([128, 125, 125, ...,  85,  90,  84], dtype=uint8), array([123, 121, 126, ...,  40,  35,  42], dtype=uint8), array([129, 127, 133, ...,  93,  93,  93], dtype=uint8), array([125, 119, 124, ...,  36,  39,  40], dtype=uint8), array([119, 120, 120, ...,  89,  94,  85], dtype=uint8), array([125, 124, 124, ...,  36,  35,  34], dtype=uint8)]\n"
          ],
          "name": "stdout"
        }
      ]
    },
    {
      "cell_type": "markdown",
      "metadata": {
        "id": "xgi-ZkXXD2Ap",
        "colab_type": "text"
      },
      "source": [
        "### constructin a matrix for all images, each image in a row"
      ]
    },
    {
      "cell_type": "code",
      "metadata": {
        "id": "AmkuPEZI9iFz",
        "colab_type": "code",
        "outputId": "c5a040f4-2f18-46a5-db34-831535356ea9",
        "colab": {
          "base_uri": "https://localhost:8080/",
          "height": 153
        }
      },
      "source": [
        "import numpy as np\n",
        "df = np.array(data)\n",
        "print(df.shape)\n",
        "print(df)"
      ],
      "execution_count": 0,
      "outputs": [
        {
          "output_type": "stream",
          "text": [
            "(400, 10304)\n",
            "[[ 48  49  45 ...  47  46  46]\n",
            " [ 60  60  62 ...  32  34  34]\n",
            " [ 39  44  53 ...  29  26  29]\n",
            " ...\n",
            " [125 119 124 ...  36  39  40]\n",
            " [119 120 120 ...  89  94  85]\n",
            " [125 124 124 ...  36  35  34]]\n"
          ],
          "name": "stdout"
        }
      ]
    },
    {
      "cell_type": "markdown",
      "metadata": {
        "id": "W30PUWJRyd1O",
        "colab_type": "text"
      },
      "source": [
        "### Generating the Labels"
      ]
    },
    {
      "cell_type": "code",
      "metadata": {
        "id": "ikQh4gXRydED",
        "colab_type": "code",
        "outputId": "fa281a0c-82e4-4f91-c5b4-e54ab4fdb28c",
        "colab": {
          "base_uri": "https://localhost:8080/",
          "height": 54
        }
      },
      "source": [
        "labels = []\n",
        "for i in range(1,41):\n",
        "    for j in range(1,11):\n",
        "        labels.append(i)\n",
        "print(labels)"
      ],
      "execution_count": 0,
      "outputs": [
        {
          "output_type": "stream",
          "text": [
            "[1, 1, 1, 1, 1, 1, 1, 1, 1, 1, 2, 2, 2, 2, 2, 2, 2, 2, 2, 2, 3, 3, 3, 3, 3, 3, 3, 3, 3, 3, 4, 4, 4, 4, 4, 4, 4, 4, 4, 4, 5, 5, 5, 5, 5, 5, 5, 5, 5, 5, 6, 6, 6, 6, 6, 6, 6, 6, 6, 6, 7, 7, 7, 7, 7, 7, 7, 7, 7, 7, 8, 8, 8, 8, 8, 8, 8, 8, 8, 8, 9, 9, 9, 9, 9, 9, 9, 9, 9, 9, 10, 10, 10, 10, 10, 10, 10, 10, 10, 10, 11, 11, 11, 11, 11, 11, 11, 11, 11, 11, 12, 12, 12, 12, 12, 12, 12, 12, 12, 12, 13, 13, 13, 13, 13, 13, 13, 13, 13, 13, 14, 14, 14, 14, 14, 14, 14, 14, 14, 14, 15, 15, 15, 15, 15, 15, 15, 15, 15, 15, 16, 16, 16, 16, 16, 16, 16, 16, 16, 16, 17, 17, 17, 17, 17, 17, 17, 17, 17, 17, 18, 18, 18, 18, 18, 18, 18, 18, 18, 18, 19, 19, 19, 19, 19, 19, 19, 19, 19, 19, 20, 20, 20, 20, 20, 20, 20, 20, 20, 20, 21, 21, 21, 21, 21, 21, 21, 21, 21, 21, 22, 22, 22, 22, 22, 22, 22, 22, 22, 22, 23, 23, 23, 23, 23, 23, 23, 23, 23, 23, 24, 24, 24, 24, 24, 24, 24, 24, 24, 24, 25, 25, 25, 25, 25, 25, 25, 25, 25, 25, 26, 26, 26, 26, 26, 26, 26, 26, 26, 26, 27, 27, 27, 27, 27, 27, 27, 27, 27, 27, 28, 28, 28, 28, 28, 28, 28, 28, 28, 28, 29, 29, 29, 29, 29, 29, 29, 29, 29, 29, 30, 30, 30, 30, 30, 30, 30, 30, 30, 30, 31, 31, 31, 31, 31, 31, 31, 31, 31, 31, 32, 32, 32, 32, 32, 32, 32, 32, 32, 32, 33, 33, 33, 33, 33, 33, 33, 33, 33, 33, 34, 34, 34, 34, 34, 34, 34, 34, 34, 34, 35, 35, 35, 35, 35, 35, 35, 35, 35, 35, 36, 36, 36, 36, 36, 36, 36, 36, 36, 36, 37, 37, 37, 37, 37, 37, 37, 37, 37, 37, 38, 38, 38, 38, 38, 38, 38, 38, 38, 38, 39, 39, 39, 39, 39, 39, 39, 39, 39, 39, 40, 40, 40, 40, 40, 40, 40, 40, 40, 40]\n"
          ],
          "name": "stdout"
        }
      ]
    },
    {
      "cell_type": "markdown",
      "metadata": {
        "id": "rNsv4H6Q2hdS",
        "colab_type": "text"
      },
      "source": [
        "### Checking an image sample"
      ]
    },
    {
      "cell_type": "code",
      "metadata": {
        "id": "-ItMuOiC9iF-",
        "colab_type": "code",
        "outputId": "0996ccca-ba21-44c7-ee2e-1e7030629929",
        "colab": {
          "base_uri": "https://localhost:8080/",
          "height": 367
        }
      },
      "source": [
        "pyplot.imshow(data[100].reshape(112 , 92))"
      ],
      "execution_count": 0,
      "outputs": [
        {
          "output_type": "execute_result",
          "data": {
            "text/plain": [
              "<matplotlib.image.AxesImage at 0x7f6636707550>"
            ]
          },
          "metadata": {
            "tags": []
          },
          "execution_count": 10
        },
        {
          "output_type": "display_data",
          "data": {
            "image/png": "[encoded data removed]",
            "text/plain": [
              "<Figure size 576x396 with 1 Axes>"
            ]
          },
          "metadata": {
            "tags": []
          }
        }
      ]
    },
    {
      "cell_type": "markdown",
      "metadata": {
        "id": "4XWKP2s03-6j",
        "colab_type": "text"
      },
      "source": [
        "#### Splitting the data into 50% training and 50% testing"
      ]
    },
    {
      "cell_type": "code",
      "metadata": {
        "id": "Ty0Jb0A9Avu-",
        "colab_type": "code",
        "outputId": "9c3eebe7-5862-4457-d5b9-218527a89b19",
        "colab": {
          "base_uri": "https://localhost:8080/",
          "height": 170
        }
      },
      "source": [
        "X_train = np.array(data)[list(range(0,400,2)),:]\n",
        "Y_train = np.array(labels)[list(range(0,400,2))]\n",
        "\n",
        "X_test = np.array(data)[list(range(1,400,2)),:]\n",
        "Y_test = np.array(labels)[list(range(1,400,2))]\n",
        "print(Y_train)"
      ],
      "execution_count": 0,
      "outputs": [
        {
          "output_type": "stream",
          "text": [
            "[ 1  1  1  1  1  2  2  2  2  2  3  3  3  3  3  4  4  4  4  4  5  5  5  5\n",
            "  5  6  6  6  6  6  7  7  7  7  7  8  8  8  8  8  9  9  9  9  9 10 10 10\n",
            " 10 10 11 11 11 11 11 12 12 12 12 12 13 13 13 13 13 14 14 14 14 14 15 15\n",
            " 15 15 15 16 16 16 16 16 17 17 17 17 17 18 18 18 18 18 19 19 19 19 19 20\n",
            " 20 20 20 20 21 21 21 21 21 22 22 22 22 22 23 23 23 23 23 24 24 24 24 24\n",
            " 25 25 25 25 25 26 26 26 26 26 27 27 27 27 27 28 28 28 28 28 29 29 29 29\n",
            " 29 30 30 30 30 30 31 31 31 31 31 32 32 32 32 32 33 33 33 33 33 34 34 34\n",
            " 34 34 35 35 35 35 35 36 36 36 36 36 37 37 37 37 37 38 38 38 38 38 39 39\n",
            " 39 39 39 40 40 40 40 40]\n"
          ],
          "name": "stdout"
        }
      ]
    },
    {
      "cell_type": "markdown",
      "metadata": {
        "id": "GnNFTc0l9iGW",
        "colab_type": "text"
      },
      "source": [
        "## Data Preprocessing (LDA)"
      ]
    },
    {
      "cell_type": "markdown",
      "metadata": {
        "id": "fsy3xkws-sPt",
        "colab_type": "text"
      },
      "source": [
        "### First: Separate each Class and claculate it's mean"
      ]
    },
    {
      "cell_type": "code",
      "metadata": {
        "id": "HfPAiJyT-yOp",
        "colab_type": "code",
        "colab": {}
      },
      "source": [
        "classes_list = []\n",
        "mean_list = []\n",
        "for i in range(0,40):\n",
        "  classes_list.append(X_train[i*5 : i*5 + 5])\n",
        "  \n",
        "  mean_list.append([np.mean(classes_list[i],axis = 0)])\n",
        "  \n",
        "mean_list = np.array(mean_list)\n"
      ],
      "execution_count": 0,
      "outputs": []
    },
    {
      "cell_type": "markdown",
      "metadata": {
        "id": "z1ZE1-hSAzWa",
        "colab_type": "text"
      },
      "source": [
        "##### Calculating the mean of all the Data"
      ]
    },
    {
      "cell_type": "code",
      "metadata": {
        "id": "H5nO8l4W_LDk",
        "colab_type": "code",
        "colab": {}
      },
      "source": [
        "mean_data = np.mean(X_train,axis = 0)\n"
      ],
      "execution_count": 0,
      "outputs": []
    },
    {
      "cell_type": "code",
      "metadata": {
        "id": "5vQ2P-AdjmGI",
        "colab_type": "code",
        "outputId": "f3967bbf-79b6-4ccc-aa0f-bfaaffa3e97d",
        "colab": {
          "base_uri": "https://localhost:8080/",
          "height": 34
        }
      },
      "source": [
        "mean_data = np.array([mean_data])\n",
        "print(mean_data.shape)"
      ],
      "execution_count": 0,
      "outputs": [
        {
          "output_type": "stream",
          "text": [
            "(1, 10304)\n"
          ],
          "name": "stdout"
        }
      ]
    },
    {
      "cell_type": "markdown",
      "metadata": {
        "id": "g0-L34YiBUEY",
        "colab_type": "text"
      },
      "source": [
        "##### Claculating Sb (between classes Scatter matrix)"
      ]
    },
    {
      "cell_type": "code",
      "metadata": {
        "id": "FHqlwkZKA9YY",
        "colab_type": "code",
        "colab": {}
      },
      "source": [
        "sb =  len(classes_list[0])*      np.dot((mean_list[0] - mean_data).T ,(mean_list[0] - mean_data))\n",
        "print(sb)\n",
        "for i in range(1,40):\n",
        "    \n",
        "    sb +=  len(classes_list[i]) *np.dot((mean_list[i] - mean_data).T ,(mean_list[i] - mean_data))\n",
        " \n",
        "print(sb.shape)\n"
      ],
      "execution_count": 0,
      "outputs": []
    },
    {
      "cell_type": "code",
      "metadata": {
        "id": "g_0UtNcABlNQ",
        "colab_type": "code",
        "outputId": "9a842854-2be4-4255-d6e1-6bcbb17c4474",
        "colab": {
          "base_uri": "https://localhost:8080/",
          "height": 34
        }
      },
      "source": [
        " not False in (np.abs(sb-sb.T) < 1e-8)"
      ],
      "execution_count": 0,
      "outputs": [
        {
          "output_type": "execute_result",
          "data": {
            "text/plain": [
              "True"
            ]
          },
          "metadata": {
            "tags": []
          },
          "execution_count": 238
        }
      ]
    },
    {
      "cell_type": "code",
      "metadata": {
        "id": "nmNdkCD2B9Nf",
        "colab_type": "code",
        "outputId": "b537a48a-3aa8-4498-f2b9-c7bc2dcdd4e0",
        "colab": {
          "base_uri": "https://localhost:8080/",
          "height": 136
        }
      },
      "source": [
        "print(sb)"
      ],
      "execution_count": 0,
      "outputs": [
        {
          "output_type": "stream",
          "text": [
            "[[221513.555 220621.705 218488.645 ... -16726.5   -21288.885 -10780.955]\n",
            " [220621.705 220582.155 218178.495 ... -18392.1   -22588.335 -11850.305]\n",
            " [218488.645 218178.495 216305.155 ... -18975.3   -23655.315 -13299.645]\n",
            " ...\n",
            " [-16726.5   -18392.1   -18975.3   ... 298757.2   305832.7   291714.1  ]\n",
            " [-21288.885 -22588.335 -23655.315 ... 305832.7   318949.395 305942.485]\n",
            " [-10780.955 -11850.305 -13299.645 ... 291714.1   305942.485 300057.155]]\n"
          ],
          "name": "stdout"
        }
      ]
    },
    {
      "cell_type": "code",
      "metadata": {
        "id": "615yZhT3Mgqi",
        "colab_type": "code",
        "outputId": "dd7a74e5-5ae5-4d89-e444-5fcc591bf1e5",
        "colab": {
          "base_uri": "https://localhost:8080/",
          "height": 34
        }
      },
      "source": [
        "print(classes_list[0].shape)"
      ],
      "execution_count": 0,
      "outputs": [
        {
          "output_type": "stream",
          "text": [
            "(5, 10304)\n"
          ],
          "name": "stdout"
        }
      ]
    },
    {
      "cell_type": "markdown",
      "metadata": {
        "id": "LmPXwaLWFlJc",
        "colab_type": "text"
      },
      "source": [
        "#### alculating the Covariance matrix for each class, and Sw"
      ]
    },
    {
      "cell_type": "code",
      "metadata": {
        "id": "UzgXPDFhEwhh",
        "colab_type": "code",
        "colab": {}
      },
      "source": [
        "Sw = np.zeros((10304,10304))\n",
        "for  c in classes_list:\n",
        "  Sw += (np.cov(c,rowvar =False , bias = True ))\n",
        " \n",
        "#print(cov_list[i])\n",
        "\n"
      ],
      "execution_count": 0,
      "outputs": []
    },
    {
      "cell_type": "code",
      "metadata": {
        "id": "pUivQ-nMQZfv",
        "colab_type": "code",
        "colab": {}
      },
      "source": [
        "Sw_inv = np.linalg.inv(Sw)"
      ],
      "execution_count": 0,
      "outputs": []
    },
    {
      "cell_type": "markdown",
      "metadata": {
        "id": "7kL3LiSiQmG1",
        "colab_type": "text"
      },
      "source": [
        "### Computing EigenValues and Eigenvectors for Sw_inv * Sb"
      ]
    },
    {
      "cell_type": "code",
      "metadata": {
        "colab_type": "code",
        "id": "qGKXyBYWQjgo",
        "colab": {}
      },
      "source": [
        "eigenValuesh , eignVectorsh = np.linalg.eigh(np.matmul(Sw_inv , sb))"
      ],
      "execution_count": 0,
      "outputs": []
    },
    {
      "cell_type": "code",
      "metadata": {
        "id": "WzXwHr0g8sYV",
        "colab_type": "code",
        "outputId": "3254f4d7-db48-4a42-915b-dcdbcbbaae37",
        "colab": {
          "base_uri": "https://localhost:8080/",
          "height": 272
        }
      },
      "source": [
        "print(eigenValuesh)\n",
        "print(eignVectorsh)\n"
      ],
      "execution_count": 0,
      "outputs": [
        {
          "output_type": "stream",
          "text": [
            "[-1.28908036e+20 -4.97452454e+19 -3.39371077e+19 ...  3.43054270e+19\n",
            "  4.94648290e+19  1.29391886e+20]\n",
            "[[-0.00873202 -0.01221486  0.01377822 ... -0.013032    0.01164344\n",
            "   0.00867189]\n",
            " [-0.00842419 -0.01176132  0.01370852 ... -0.01310776  0.01128342\n",
            "   0.00838745]\n",
            " [-0.00866147 -0.01213497  0.01341383 ... -0.01254052  0.01148777\n",
            "   0.00857751]\n",
            " ...\n",
            " [-0.02335856  0.01498586 -0.01296042 ... -0.0141392   0.01508474\n",
            "  -0.0230595 ]\n",
            " [ 0.0230555  -0.01658593  0.00269854 ...  0.00405695 -0.01710425\n",
            "   0.02278462]\n",
            " [-0.00216219  0.00019704 -0.00811643 ... -0.00805226  0.00013865\n",
            "  -0.00211484]]\n"
          ],
          "name": "stdout"
        }
      ]
    },
    {
      "cell_type": "code",
      "metadata": {
        "id": "OT5UyipZelZv",
        "colab_type": "code",
        "colab": {}
      },
      "source": [
        ""
      ],
      "execution_count": 0,
      "outputs": []
    },
    {
      "cell_type": "markdown",
      "metadata": {
        "id": "WtpuLHZFGhjT",
        "colab_type": "text"
      },
      "source": [
        "### Sorting EigenValues & Eigenvectors"
      ]
    },
    {
      "cell_type": "code",
      "metadata": {
        "id": "KtOZxNmoA497",
        "colab_type": "code",
        "outputId": "824c9bbe-6129-4c4d-b59f-51b061c1e4fa",
        "colab": {
          "base_uri": "https://localhost:8080/",
          "height": 272
        }
      },
      "source": [
        "\n",
        "sev = eigenValuesh.argsort()[::-1] #returns the indices one would use to sort the array.\n",
        "eigenValues = eigenValuesh[sev]\n",
        "eignVectors = eignVectorsh[:,sev]\n",
        "print(eigenValues)\n",
        "print(eignVectors)\n"
      ],
      "execution_count": 0,
      "outputs": [
        {
          "output_type": "stream",
          "text": [
            "[ 1.29391886e+20  4.94648290e+19  3.43054270e+19 ... -3.39371077e+19\n",
            " -4.97452454e+19 -1.28908036e+20]\n",
            "[[ 0.00867189  0.01164344 -0.013032   ...  0.01377822 -0.01221486\n",
            "  -0.00873202]\n",
            " [ 0.00838745  0.01128342 -0.01310776 ...  0.01370852 -0.01176132\n",
            "  -0.00842419]\n",
            " [ 0.00857751  0.01148777 -0.01254052 ...  0.01341383 -0.01213497\n",
            "  -0.00866147]\n",
            " ...\n",
            " [-0.0230595   0.01508474 -0.0141392  ... -0.01296042  0.01498586\n",
            "  -0.02335856]\n",
            " [ 0.02278462 -0.01710425  0.00405695 ...  0.00269854 -0.01658593\n",
            "   0.0230555 ]\n",
            " [-0.00211484  0.00013865 -0.00805226 ... -0.00811643  0.00019704\n",
            "  -0.00216219]]\n"
          ],
          "name": "stdout"
        }
      ]
    },
    {
      "cell_type": "markdown",
      "metadata": {
        "id": "bHC14oEvSVx2",
        "colab_type": "text"
      },
      "source": [
        "#### plotting the first c-1 EigenValues"
      ]
    },
    {
      "cell_type": "code",
      "metadata": {
        "id": "MjO0eTTYSYsx",
        "colab_type": "code",
        "outputId": "78ec636f-f93b-4171-a40a-6f8a89af4eca",
        "colab": {
          "base_uri": "https://localhost:8080/",
          "height": 562
        }
      },
      "source": [
        "from matplotlib import pyplot as py\n",
        "py.plot(range(0,45),eigenValues[0:45] )\n",
        "\n",
        "py.show()\n",
        "print(eigenValues[0:45])"
      ],
      "execution_count": 0,
      "outputs": [
        {
          "output_type": "display_data",
          "data": {
            "image/png": "[encoded data removed]",
            "text/plain": [
              "<Figure size 576x396 with 1 Axes>"
            ]
          },
          "metadata": {
            "tags": []
          }
        },
        {
          "output_type": "stream",
          "text": [
            "[1.29391886e+20 4.94648290e+19 3.43054270e+19 2.98337949e+19\n",
            " 2.04265956e+19 1.82983506e+19 1.49172160e+19 1.25711968e+19\n",
            " 1.09456536e+19 1.00257213e+19 8.89043772e+18 8.52832173e+18\n",
            " 8.02461053e+18 7.38072349e+18 6.89983934e+18 6.45058946e+18\n",
            " 6.12458344e+18 5.74124701e+18 5.46660733e+18 5.12348847e+18\n",
            " 4.78348861e+18 4.65282179e+18 4.31822507e+18 4.25967239e+18\n",
            " 4.16773032e+18 4.02504063e+18 3.81224853e+18 3.56326803e+18\n",
            " 3.51498536e+18 3.39752366e+18 3.21756788e+18 3.18044885e+18\n",
            " 3.11375354e+18 3.01735118e+18 2.95903199e+18 2.79737514e+18\n",
            " 2.75901989e+18 2.73631583e+18 2.65766427e+18 2.56489501e+18\n",
            " 2.51620198e+18 2.45763531e+18 2.43504146e+18 2.38544616e+18\n",
            " 2.31523634e+18]\n"
          ],
          "name": "stdout"
        }
      ]
    },
    {
      "cell_type": "markdown",
      "metadata": {
        "id": "tLh6WnuPTEgM",
        "colab_type": "text"
      },
      "source": [
        "#### Plotting the Variance explained by the first 39 Vectors"
      ]
    },
    {
      "cell_type": "code",
      "metadata": {
        "id": "jSscD4w0TIe1",
        "colab_type": "code",
        "outputId": "57c9dcad-ccc3-4e32-a9a4-b5df3198c18b",
        "colab": {
          "base_uri": "https://localhost:8080/",
          "height": 364
        }
      },
      "source": [
        "total_variance = np.sum(eigenValues)\n",
        "print(total_variance)\n",
        "list_variance = []\n",
        "sum = 0\n",
        "for i in range(0,40):\n",
        "  sum +=eigenValues[i]\n",
        "  list_variance.append(sum)\n",
        "  \n",
        "py.plot(range(0,40),list_variance/total_variance)\n",
        "\n",
        "py.show()"
      ],
      "execution_count": 0,
      "outputs": [
        {
          "output_type": "stream",
          "text": [
            "-4.89671139120513e+17\n"
          ],
          "name": "stdout"
        },
        {
          "output_type": "display_data",
          "data": {
            "image/png": "[encoded data removed]",
            "text/plain": [
              "<Figure size 576x396 with 1 Axes>"
            ]
          },
          "metadata": {
            "tags": []
          }
        }
      ]
    },
    {
      "cell_type": "markdown",
      "metadata": {
        "id": "zyRveDu7HB4B",
        "colab_type": "text"
      },
      "source": [
        "### Setting the Projection vectors (c-1) vectors"
      ]
    },
    {
      "cell_type": "code",
      "metadata": {
        "id": "tQZug6_cGnsg",
        "colab_type": "code",
        "outputId": "6babdc59-9c6d-40f1-85c6-0c4a05a54073",
        "colab": {
          "base_uri": "https://localhost:8080/",
          "height": 204
        }
      },
      "source": [
        "projection_vectors = eignVectors[:,0:39]\n",
        "#projection_vectors = np.real(projection_vectors)\n",
        "print(projection_vectors.shape)\n",
        "print(projection_vectors[0])"
      ],
      "execution_count": 0,
      "outputs": [
        {
          "output_type": "stream",
          "text": [
            "(10304, 39)\n",
            "[ 8.67188919e-03  1.16434369e-02 -1.30320044e-02  1.07628048e-02\n",
            "  4.53690426e-03 -1.15098045e-02  1.47589113e-02 -1.59340179e-02\n",
            "  1.00709424e-02 -4.69399493e-03  1.72026015e-02 -2.12359808e-02\n",
            "  1.52331996e-02 -5.98420188e-04  1.79938844e-02 -2.26162395e-02\n",
            "  1.48986903e-02 -4.73590446e-03  2.49206705e-02 -6.53576152e-03\n",
            "  6.81155708e-03 -6.43447417e-03  1.98545441e-02 -3.44142128e-02\n",
            "  6.20100796e-03 -8.30557948e-03  2.69311878e-04  5.76912420e-03\n",
            "  6.80278234e-03 -3.39085846e-02  2.03090106e-02  2.48733418e-02\n",
            " -1.70015624e-02 -8.39180879e-05 -3.12987469e-02  1.02095960e-02\n",
            " -2.48549634e-02  8.03450723e-03 -5.85799407e-02]\n"
          ],
          "name": "stdout"
        }
      ]
    },
    {
      "cell_type": "markdown",
      "metadata": {
        "id": "yss_7QVFISCz",
        "colab_type": "text"
      },
      "source": [
        "### Projecting the Data"
      ]
    },
    {
      "cell_type": "code",
      "metadata": {
        "id": "7PNp5MUsHNRB",
        "colab_type": "code",
        "outputId": "191845a5-0ae4-4e86-afbb-33387955e235",
        "colab": {
          "base_uri": "https://localhost:8080/",
          "height": 34
        }
      },
      "source": [
        "Z_train_projected = np.matmul(projection_vectors.T ,(X_train).T ).T\n",
        "print(Z_train_projected.shape)\n"
      ],
      "execution_count": 0,
      "outputs": [
        {
          "output_type": "stream",
          "text": [
            "(200, 39)\n"
          ],
          "name": "stdout"
        }
      ]
    },
    {
      "cell_type": "code",
      "metadata": {
        "id": "SN7SzN4kI4rs",
        "colab_type": "code",
        "outputId": "900b5271-c61b-424d-e199-467152b537f5",
        "colab": {
          "base_uri": "https://localhost:8080/",
          "height": 34
        }
      },
      "source": [
        "Z_test_projected = np.matmul(projection_vectors.T ,(X_test).T ).T\n",
        "print(Z_test_projected.shape)"
      ],
      "execution_count": 0,
      "outputs": [
        {
          "output_type": "stream",
          "text": [
            "(200, 39)\n"
          ],
          "name": "stdout"
        }
      ]
    },
    {
      "cell_type": "markdown",
      "metadata": {
        "id": "ZrbfNDZuJdsz",
        "colab_type": "text"
      },
      "source": [
        "### Classification :-"
      ]
    },
    {
      "cell_type": "code",
      "metadata": {
        "id": "InvdHUWmJOdB",
        "colab_type": "code",
        "outputId": "e4f75fd8-3c63-4300-e0c8-c5057283099b",
        "colab": {
          "base_uri": "https://localhost:8080/",
          "height": 5861
        }
      },
      "source": [
        "from sklearn.metrics import accuracy_score, confusion_matrix, classification_report\n",
        "from sklearn.neighbors import KNeighborsClassifier\n",
        "from matplotlib import pyplot as plt\n",
        "  \n",
        "K = [1,3,5,7]\n",
        "accuracy_list = []\n",
        "accuracy = np.ones((4,1))\n",
        "for k in K:\n",
        "    print('\\nk = ', k)\n",
        "    print('-------')\n",
        "    \n",
        "    \n",
        "    clf = KNeighborsClassifier(n_neighbors = k,algorithm  = 'auto')\n",
        "    clf.fit(Z_train_projected, Y_train)\n",
        "  \n",
        "    Y_pred = clf.predict(Z_test_projected)\n",
        "\n",
        "   \n",
        "    print('Accuracy: ')\n",
        "    accuracy2 = accuracy_score(Y_test, Y_pred)\n",
        "    accuracy_list.append(accuracy2)\n",
        "    print(accuracy2)\n",
        "    accuracy[K.index(k)] = accuracy_score(Y_test, Y_pred)\n",
        "    print('confusion matrix: \\n')\n",
        "    #print(confusion_matrix(Y_test, Y_pred))\n",
        "    print('Classification report: \\n')\n",
        "    print(classification_report(Y_test, Y_pred))\n",
        "    ## Plotting the Confusion Matrix\n",
        "    cm = confusion_matrix(Y_test, Y_pred)\n",
        "    plt.clf()\n",
        "    plt.imshow(cm, interpolation='nearest', cmap=plt.cm.Wistia)\n",
        "    classNames = ['Negative', 'Positive']\n",
        "    plt.title('Confusion Matrix - KNN')\n",
        "    plt.ylabel('True label')\n",
        "    plt.xlabel('Predicted label')\n",
        "    tick_marks = np.arange(len(classNames))\n",
        "    plt.xticks(tick_marks, classNames, rotation=45)\n",
        "    plt.yticks(tick_marks, classNames)\n",
        "    s = [['TN', 'FP'], ['FN', 'TP']]\n",
        "    for i in range(2):\n",
        "        for j in range(2):\n",
        "            plt.text(j, i, str(s[i][j])+\" = \"+str(cm[i][j]))\n",
        "    plt.show()\n",
        "  \n",
        "K = np.array(K)\n",
        "plt.scatter(K, accuracy)\n",
        "plt.xlabel('K')\n",
        "plt.ylabel('Accuracy')\n",
        "plt.show()\n",
        "print('-------------------------------------------------------------------------------------------------------------\\n')\n",
        "  "
      ],
      "execution_count": 0,
      "outputs": [
        {
          "output_type": "stream",
          "text": [
            "\n",
            "k =  1\n",
            "-------\n",
            "Accuracy: \n",
            "0.95\n",
            "confusion matrix: \n",
            "\n",
            "Classification report: \n",
            "\n",
            "              precision    recall  f1-score   support\n",
            "\n",
            "           1       1.00      0.60      0.75         5\n",
            "           2       1.00      1.00      1.00         5\n",
            "           3       1.00      1.00      1.00         5\n",
            "           4       1.00      1.00      1.00         5\n",
            "           5       0.80      0.80      0.80         5\n",
            "           6       1.00      1.00      1.00         5\n",
            "           7       1.00      1.00      1.00         5\n",
            "           8       0.83      1.00      0.91         5\n",
            "           9       1.00      1.00      1.00         5\n",
            "          10       1.00      0.80      0.89         5\n",
            "          11       1.00      1.00      1.00         5\n",
            "          12       1.00      1.00      1.00         5\n",
            "          13       1.00      1.00      1.00         5\n",
            "          14       1.00      1.00      1.00         5\n",
            "          15       0.83      1.00      0.91         5\n",
            "          16       0.71      1.00      0.83         5\n",
            "          17       1.00      1.00      1.00         5\n",
            "          18       1.00      1.00      1.00         5\n",
            "          19       1.00      1.00      1.00         5\n",
            "          20       1.00      1.00      1.00         5\n",
            "          21       1.00      1.00      1.00         5\n",
            "          22       1.00      1.00      1.00         5\n",
            "          23       1.00      1.00      1.00         5\n",
            "          24       1.00      1.00      1.00         5\n",
            "          25       0.83      1.00      0.91         5\n",
            "          26       1.00      1.00      1.00         5\n",
            "          27       1.00      1.00      1.00         5\n",
            "          28       1.00      0.80      0.89         5\n",
            "          29       1.00      1.00      1.00         5\n",
            "          30       1.00      1.00      1.00         5\n",
            "          31       1.00      1.00      1.00         5\n",
            "          32       1.00      1.00      1.00         5\n",
            "          33       1.00      1.00      1.00         5\n",
            "          34       1.00      1.00      1.00         5\n",
            "          35       1.00      0.20      0.33         5\n",
            "          36       1.00      1.00      1.00         5\n",
            "          37       0.83      1.00      0.91         5\n",
            "          38       1.00      1.00      1.00         5\n",
            "          39       1.00      1.00      1.00         5\n",
            "          40       0.57      0.80      0.67         5\n",
            "\n",
            "   micro avg       0.95      0.95      0.95       200\n",
            "   macro avg       0.96      0.95      0.94       200\n",
            "weighted avg       0.96      0.95      0.94       200\n",
            "\n"
          ],
          "name": "stdout"
        },
        {
          "output_type": "display_data",
          "data": {
            "image/png": "[encoded data removed]",
            "text/plain": [
              "<Figure size 576x396 with 1 Axes>"
            ]
          },
          "metadata": {
            "tags": []
          }
        },
        {
          "output_type": "stream",
          "text": [
            "\n",
            "k =  3\n",
            "-------\n",
            "Accuracy: \n",
            "0.895\n",
            "confusion matrix: \n",
            "\n",
            "Classification report: \n",
            "\n",
            "              precision    recall  f1-score   support\n",
            "\n",
            "           1       0.80      0.80      0.80         5\n",
            "           2       1.00      1.00      1.00         5\n",
            "           3       0.71      1.00      0.83         5\n",
            "           4       1.00      1.00      1.00         5\n",
            "           5       0.57      0.80      0.67         5\n",
            "           6       1.00      1.00      1.00         5\n",
            "           7       1.00      1.00      1.00         5\n",
            "           8       1.00      1.00      1.00         5\n",
            "           9       1.00      1.00      1.00         5\n",
            "          10       1.00      0.80      0.89         5\n",
            "          11       1.00      1.00      1.00         5\n",
            "          12       1.00      1.00      1.00         5\n",
            "          13       1.00      1.00      1.00         5\n",
            "          14       0.62      1.00      0.77         5\n",
            "          15       0.71      1.00      0.83         5\n",
            "          16       1.00      0.60      0.75         5\n",
            "          17       0.83      1.00      0.91         5\n",
            "          18       0.71      1.00      0.83         5\n",
            "          19       1.00      1.00      1.00         5\n",
            "          20       1.00      0.80      0.89         5\n",
            "          21       1.00      1.00      1.00         5\n",
            "          22       1.00      1.00      1.00         5\n",
            "          23       1.00      1.00      1.00         5\n",
            "          24       1.00      1.00      1.00         5\n",
            "          25       0.57      0.80      0.67         5\n",
            "          26       1.00      1.00      1.00         5\n",
            "          27       1.00      1.00      1.00         5\n",
            "          28       0.80      0.80      0.80         5\n",
            "          29       0.83      1.00      0.91         5\n",
            "          30       1.00      1.00      1.00         5\n",
            "          31       1.00      1.00      1.00         5\n",
            "          32       1.00      1.00      1.00         5\n",
            "          33       1.00      1.00      1.00         5\n",
            "          34       1.00      1.00      1.00         5\n",
            "          35       0.00      0.00      0.00         5\n",
            "          36       1.00      0.80      0.89         5\n",
            "          37       0.50      0.20      0.29         5\n",
            "          38       1.00      1.00      1.00         5\n",
            "          39       1.00      1.00      1.00         5\n",
            "          40       0.67      0.40      0.50         5\n",
            "\n",
            "   micro avg       0.90      0.90      0.90       200\n",
            "   macro avg       0.88      0.89      0.88       200\n",
            "weighted avg       0.88      0.90      0.88       200\n",
            "\n"
          ],
          "name": "stdout"
        },
        {
          "output_type": "stream",
          "text": [
            "/usr/local/lib/python3.6/dist-packages/sklearn/metrics/classification.py:1143: UndefinedMetricWarning: Precision and F-score are ill-defined and being set to 0.0 in labels with no predicted samples.\n",
            "  'precision', 'predicted', average, warn_for)\n"
          ],
          "name": "stderr"
        },
        {
          "output_type": "display_data",
          "data": {
            "image/png": "[encoded data removed]",
            "text/plain": [
              "<Figure size 576x396 with 1 Axes>"
            ]
          },
          "metadata": {
            "tags": []
          }
        },
        {
          "output_type": "stream",
          "text": [
            "\n",
            "k =  5\n",
            "-------\n",
            "Accuracy: \n",
            "0.84\n",
            "confusion matrix: \n",
            "\n",
            "Classification report: \n",
            "\n",
            "              precision    recall  f1-score   support\n",
            "\n",
            "           1       0.80      0.80      0.80         5\n",
            "           2       0.83      1.00      0.91         5\n",
            "           3       0.83      1.00      0.91         5\n",
            "           4       1.00      1.00      1.00         5\n",
            "           5       0.57      0.80      0.67         5\n",
            "           6       1.00      1.00      1.00         5\n",
            "           7       0.71      1.00      0.83         5\n",
            "           8       1.00      1.00      1.00         5\n",
            "           9       1.00      1.00      1.00         5\n",
            "          10       1.00      0.80      0.89         5\n",
            "          11       1.00      1.00      1.00         5\n",
            "          12       1.00      1.00      1.00         5\n",
            "          13       1.00      1.00      1.00         5\n",
            "          14       0.62      1.00      0.77         5\n",
            "          15       0.50      0.60      0.55         5\n",
            "          16       1.00      0.60      0.75         5\n",
            "          17       0.62      1.00      0.77         5\n",
            "          18       0.71      1.00      0.83         5\n",
            "          19       1.00      1.00      1.00         5\n",
            "          20       1.00      1.00      1.00         5\n",
            "          21       0.83      1.00      0.91         5\n",
            "          22       1.00      1.00      1.00         5\n",
            "          23       1.00      0.80      0.89         5\n",
            "          24       0.83      1.00      0.91         5\n",
            "          25       0.62      1.00      0.77         5\n",
            "          26       1.00      1.00      1.00         5\n",
            "          27       1.00      0.80      0.89         5\n",
            "          28       0.67      0.40      0.50         5\n",
            "          29       1.00      0.80      0.89         5\n",
            "          30       1.00      1.00      1.00         5\n",
            "          31       1.00      0.40      0.57         5\n",
            "          32       1.00      1.00      1.00         5\n",
            "          33       1.00      1.00      1.00         5\n",
            "          34       0.71      1.00      0.83         5\n",
            "          35       0.00      0.00      0.00         5\n",
            "          36       1.00      0.20      0.33         5\n",
            "          37       0.25      0.20      0.22         5\n",
            "          38       0.83      1.00      0.91         5\n",
            "          39       1.00      1.00      1.00         5\n",
            "          40       0.67      0.40      0.50         5\n",
            "\n",
            "   micro avg       0.84      0.84      0.84       200\n",
            "   macro avg       0.84      0.84      0.82       200\n",
            "weighted avg       0.84      0.84      0.82       200\n",
            "\n"
          ],
          "name": "stdout"
        },
        {
          "output_type": "stream",
          "text": [
            "/usr/local/lib/python3.6/dist-packages/sklearn/metrics/classification.py:1143: UndefinedMetricWarning: Precision and F-score are ill-defined and being set to 0.0 in labels with no predicted samples.\n",
            "  'precision', 'predicted', average, warn_for)\n"
          ],
          "name": "stderr"
        },
        {
          "output_type": "display_data",
          "data": {
            "image/png": "[encoded data removed]",
            "text/plain": [
              "<Figure size 576x396 with 1 Axes>"
            ]
          },
          "metadata": {
            "tags": []
          }
        },
        {
          "output_type": "stream",
          "text": [
            "\n",
            "k =  7\n",
            "-------\n",
            "Accuracy: \n",
            "0.8\n",
            "confusion matrix: \n",
            "\n",
            "Classification report: \n",
            "\n",
            "              precision    recall  f1-score   support\n",
            "\n",
            "           1       0.67      0.40      0.50         5\n",
            "           2       0.83      1.00      0.91         5\n",
            "           3       1.00      1.00      1.00         5\n",
            "           4       0.83      1.00      0.91         5\n",
            "           5       0.60      0.60      0.60         5\n",
            "           6       1.00      1.00      1.00         5\n",
            "           7       0.62      1.00      0.77         5\n",
            "           8       0.83      1.00      0.91         5\n",
            "           9       1.00      1.00      1.00         5\n",
            "          10       1.00      0.80      0.89         5\n",
            "          11       1.00      1.00      1.00         5\n",
            "          12       1.00      1.00      1.00         5\n",
            "          13       1.00      1.00      1.00         5\n",
            "          14       0.62      1.00      0.77         5\n",
            "          15       0.50      0.40      0.44         5\n",
            "          16       0.75      0.60      0.67         5\n",
            "          17       0.43      0.60      0.50         5\n",
            "          18       0.62      1.00      0.77         5\n",
            "          19       1.00      1.00      1.00         5\n",
            "          20       1.00      1.00      1.00         5\n",
            "          21       0.83      1.00      0.91         5\n",
            "          22       0.71      1.00      0.83         5\n",
            "          23       1.00      0.80      0.89         5\n",
            "          24       0.71      1.00      0.83         5\n",
            "          25       0.62      1.00      0.77         5\n",
            "          26       1.00      1.00      1.00         5\n",
            "          27       1.00      0.60      0.75         5\n",
            "          28       0.67      0.40      0.50         5\n",
            "          29       1.00      0.80      0.89         5\n",
            "          30       1.00      1.00      1.00         5\n",
            "          31       1.00      0.40      0.57         5\n",
            "          32       1.00      1.00      1.00         5\n",
            "          33       1.00      1.00      1.00         5\n",
            "          34       0.50      0.60      0.55         5\n",
            "          35       0.00      0.00      0.00         5\n",
            "          36       1.00      0.20      0.33         5\n",
            "          37       0.25      0.20      0.22         5\n",
            "          38       0.83      1.00      0.91         5\n",
            "          39       1.00      1.00      1.00         5\n",
            "          40       0.60      0.60      0.60         5\n",
            "\n",
            "   micro avg       0.80      0.80      0.80       200\n",
            "   macro avg       0.80      0.80      0.78       200\n",
            "weighted avg       0.80      0.80      0.78       200\n",
            "\n"
          ],
          "name": "stdout"
        },
        {
          "output_type": "stream",
          "text": [
            "/usr/local/lib/python3.6/dist-packages/sklearn/metrics/classification.py:1143: UndefinedMetricWarning: Precision and F-score are ill-defined and being set to 0.0 in labels with no predicted samples.\n",
            "  'precision', 'predicted', average, warn_for)\n"
          ],
          "name": "stderr"
        },
        {
          "output_type": "display_data",
          "data": {
            "image/png": "[encoded data removed]",
            "text/plain": [
              "<Figure size 576x396 with 1 Axes>"
            ]
          },
          "metadata": {
            "tags": []
          }
        },
        {
          "output_type": "display_data",
          "data": {
            "image/png": "[encoded data removed]",
            "text/plain": [
              "<Figure size 576x396 with 1 Axes>"
            ]
          },
          "metadata": {
            "tags": []
          }
        },
        {
          "output_type": "stream",
          "text": [
            "-------------------------------------------------------------------------------------------------------------\n",
            "\n"
          ],
          "name": "stdout"
        }
      ]
    },
    {
      "cell_type": "code",
      "metadata": {
        "id": "0vswxLoaKF_V",
        "colab_type": "code",
        "colab": {}
      },
      "source": [
        ""
      ],
      "execution_count": 0,
      "outputs": []
    },
    {
      "cell_type": "markdown",
      "metadata": {
        "id": "cbypl4eEXBIH",
        "colab_type": "text"
      },
      "source": [
        "### Classification using Crossvlidation and 5-Folds"
      ]
    },
    {
      "cell_type": "code",
      "metadata": {
        "id": "XEiscXJvW6BZ",
        "colab_type": "code",
        "outputId": "e5fabca1-f1f0-4ca2-c547-c51ac31f3530",
        "colab": {
          "base_uri": "https://localhost:8080/",
          "height": 1489
        }
      },
      "source": [
        "    from sklearn.model_selection import GridSearchCV  \n",
        "    clf_knn = KNeighborsClassifier(n_neighbors = k,algorithm  = 'auto')\n",
        "    param = [{'n_neighbors' : [1,3,5,7]}]\n",
        "    \n",
        "    score = ['precision', 'recall'  ]\n",
        "    clf =  GridSearchCV(clf_knn,param, cv=5,scoring='accuracy')\n",
        "    clf.fit(Z_train_projected, Y_train)\n",
        "  \n",
        "    Y_pred = clf.predict(Z_test_projected)\n",
        "  \n",
        "    print(\"Best parameters set found on development set:\")\n",
        "    print()\n",
        "    print(clf.best_params_)   \n",
        "    print()\n",
        "    print(\"best Score: \")\n",
        "    print()\n",
        "    print(clf.best_score_)\n",
        "    \n",
        "    means = clf.cv_results_['mean_test_score']\n",
        "    stds = clf.cv_results_['std_test_score']\n",
        "    for mean, std, params in zip(means, stds, clf.cv_results_['params']):\n",
        "        print(\"%0.3f (+/-%0.03f) for %r\"\n",
        "              % (mean, std * 2, params))\n",
        "        \n",
        "    print('Accuracy: ')\n",
        "    accuracy2 = accuracy_score(Y_test, Y_pred)\n",
        "    \n",
        "    print(accuracy2)\n",
        "    \n",
        "    print('confusion matrix: \\n')\n",
        "    #print(confusion_matrix(Y_test, Y_pred))\n",
        "    print('Classification report: \\n')\n",
        "    print(classification_report(Y_test, Y_pred))\n",
        "    ## Plotting the Confusion Matrix\n",
        "    cm = confusion_matrix(Y_test, Y_pred)\n",
        "    plt.clf()\n",
        "    plt.imshow(cm, interpolation='nearest', cmap=plt.cm.Wistia)\n",
        "    classNames = ['Negative', 'Positive']\n",
        "    plt.title('Confusion Matrix - KNN')\n",
        "    plt.ylabel('True label')\n",
        "    plt.xlabel('Predicted label')\n",
        "    tick_marks = np.arange(len(classNames))\n",
        "    plt.xticks(tick_marks, classNames, rotation=45)\n",
        "    plt.yticks(tick_marks, classNames)\n",
        "    s = [['TN', 'FP'], ['FN', 'TP']]\n",
        "    for i in range(2):\n",
        "        for j in range(2):\n",
        "            plt.text(j, i, str(s[i][j])+\" = \"+str(cm[i][j]))\n",
        "    plt.show()"
      ],
      "execution_count": 0,
      "outputs": [
        {
          "output_type": "stream",
          "text": [
            "Best parameters set found on development set:\n",
            "\n",
            "{'n_neighbors': 1}\n",
            "\n",
            "best Score: \n",
            "\n",
            "0.925\n",
            "0.925 (+/-0.055) for {'n_neighbors': 1}\n",
            "0.860 (+/-0.136) for {'n_neighbors': 3}\n",
            "0.800 (+/-0.071) for {'n_neighbors': 5}\n",
            "0.730 (+/-0.111) for {'n_neighbors': 7}\n",
            "Accuracy: \n",
            "0.95\n",
            "confusion matrix: \n",
            "\n",
            "Classification report: \n",
            "\n",
            "              precision    recall  f1-score   support\n",
            "\n",
            "           1       1.00      0.60      0.75         5\n",
            "           2       1.00      1.00      1.00         5\n",
            "           3       1.00      1.00      1.00         5\n",
            "           4       1.00      1.00      1.00         5\n",
            "           5       0.80      0.80      0.80         5\n",
            "           6       1.00      1.00      1.00         5\n",
            "           7       1.00      1.00      1.00         5\n",
            "           8       0.83      1.00      0.91         5\n",
            "           9       1.00      1.00      1.00         5\n",
            "          10       1.00      0.80      0.89         5\n",
            "          11       1.00      1.00      1.00         5\n",
            "          12       1.00      1.00      1.00         5\n",
            "          13       1.00      1.00      1.00         5\n",
            "          14       1.00      1.00      1.00         5\n",
            "          15       0.83      1.00      0.91         5\n",
            "          16       0.71      1.00      0.83         5\n",
            "          17       1.00      1.00      1.00         5\n",
            "          18       1.00      1.00      1.00         5\n",
            "          19       1.00      1.00      1.00         5\n",
            "          20       1.00      1.00      1.00         5\n",
            "          21       1.00      1.00      1.00         5\n",
            "          22       1.00      1.00      1.00         5\n",
            "          23       1.00      1.00      1.00         5\n",
            "          24       1.00      1.00      1.00         5\n",
            "          25       0.83      1.00      0.91         5\n",
            "          26       1.00      1.00      1.00         5\n",
            "          27       1.00      1.00      1.00         5\n",
            "          28       1.00      0.80      0.89         5\n",
            "          29       1.00      1.00      1.00         5\n",
            "          30       1.00      1.00      1.00         5\n",
            "          31       1.00      1.00      1.00         5\n",
            "          32       1.00      1.00      1.00         5\n",
            "          33       1.00      1.00      1.00         5\n",
            "          34       1.00      1.00      1.00         5\n",
            "          35       1.00      0.20      0.33         5\n",
            "          36       1.00      1.00      1.00         5\n",
            "          37       0.83      1.00      0.91         5\n",
            "          38       1.00      1.00      1.00         5\n",
            "          39       1.00      1.00      1.00         5\n",
            "          40       0.57      0.80      0.67         5\n",
            "\n",
            "   micro avg       0.95      0.95      0.95       200\n",
            "   macro avg       0.96      0.95      0.94       200\n",
            "weighted avg       0.96      0.95      0.94       200\n",
            "\n"
          ],
          "name": "stdout"
        },
        {
          "output_type": "display_data",
          "data": {
            "image/png": "[encoded data removed]",
            "text/plain": [
              "<Figure size 576x396 with 1 Axes>"
            ]
          },
          "metadata": {
            "tags": []
          }
        }
      ]
    },
    {
      "cell_type": "markdown",
      "metadata": {
        "id": "Ews0vSpVXAZT",
        "colab_type": "text"
      },
      "source": [
        ""
      ]
    }
  ]
}